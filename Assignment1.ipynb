{
 "cells": [
  {
   "cell_type": "code",
   "execution_count": 35,
   "id": "814eb1d1",
   "metadata": {},
   "outputs": [
    {
     "name": "stdout",
     "output_type": "stream",
     "text": [
      "Enter a String - hello olleh\n",
      "Palindrome\n"
     ]
    }
   ],
   "source": [
    "#check palindrome\n",
    "def palindrome(str):\n",
    "    str2 = str[::-1]\n",
    "    #for i in range(0,len(str1),1):\n",
    "        #if str1[i] != str1[len(str1)-i -1]:\n",
    "    if str == str2:\n",
    "       return 'Palindrome'\n",
    "    return 'Not Palindrome'\n",
    "    \n",
    "str = input(\"Enter a String - \")\n",
    "str = str.strip()\n",
    "print(palindrome(str))"
   ]
  },
  {
   "cell_type": "code",
   "execution_count": 36,
   "id": "321dac41",
   "metadata": {},
   "outputs": [
    {
     "name": "stdout",
     "output_type": "stream",
     "text": [
      "Reversed String - hello olleh\n"
     ]
    }
   ],
   "source": [
    "#reverse\n",
    "rev = str[::-1]\n",
    "print('Reversed String -', rev)"
   ]
  },
  {
   "cell_type": "code",
   "execution_count": 37,
   "id": "b9561e04",
   "metadata": {},
   "outputs": [
    {
     "name": "stdout",
     "output_type": "stream",
     "text": [
      "Lowercase - hello olleh\n"
     ]
    }
   ],
   "source": [
    "#lower\n",
    "l = str.lower()\n",
    "print('Lowercase -', l)"
   ]
  },
  {
   "cell_type": "code",
   "execution_count": 38,
   "id": "fc4141a6",
   "metadata": {},
   "outputs": [
    {
     "name": "stdout",
     "output_type": "stream",
     "text": [
      "Uppercase - HELLO OLLEH\n"
     ]
    }
   ],
   "source": [
    "#upper\n",
    "u = str.upper()\n",
    "print('Uppercase -', u)"
   ]
  },
  {
   "cell_type": "code",
   "execution_count": 39,
   "id": "fc7b0ece",
   "metadata": {},
   "outputs": [
    {
     "name": "stdout",
     "output_type": "stream",
     "text": [
      "Capitalize String - Hello olleh\n"
     ]
    }
   ],
   "source": [
    "#capitalize\n",
    "cap = str.capitalize()\n",
    "print('Capitalize String -',cap)"
   ]
  },
  {
   "cell_type": "code",
   "execution_count": 40,
   "id": "8105fa81",
   "metadata": {},
   "outputs": [
    {
     "name": "stdout",
     "output_type": "stream",
     "text": [
      "Split String into List -  ['hello', 'olleh']\n"
     ]
    }
   ],
   "source": [
    "#split\n",
    "sp = str.split()\n",
    "print('Split String into List - ', sp)"
   ]
  },
  {
   "cell_type": "code",
   "execution_count": 41,
   "id": "15d01b01",
   "metadata": {},
   "outputs": [
    {
     "name": "stdout",
     "output_type": "stream",
     "text": [
      "Number of occurances of 'l' in the string - 4\n"
     ]
    }
   ],
   "source": [
    "#count\n",
    "c = str.count('l')\n",
    "print(\"Number of occurances of 'l' in the string -\", c)"
   ]
  },
  {
   "cell_type": "code",
   "execution_count": 42,
   "id": "ba06289a",
   "metadata": {},
   "outputs": [
    {
     "name": "stdout",
     "output_type": "stream",
     "text": [
      "Title - Hello Olleh\n"
     ]
    }
   ],
   "source": [
    "#title\n",
    "t = str.title()\n",
    "print('Title -', t)"
   ]
  },
  {
   "cell_type": "code",
   "execution_count": 30,
   "id": "79114980",
   "metadata": {
    "scrolled": true
   },
   "outputs": [
    {
     "name": "stdout",
     "output_type": "stream",
     "text": [
      "hello User\n"
     ]
    }
   ],
   "source": [
    "st = \"  hello User  \".strip()\n",
    "print (st)"
   ]
  },
  {
   "cell_type": "code",
   "execution_count": 31,
   "id": "c69b4430",
   "metadata": {},
   "outputs": [
    {
     "name": "stdout",
     "output_type": "stream",
     "text": [
      "True\n"
     ]
    }
   ],
   "source": [
    "str =\" \"\n",
    "print(str.isspace())"
   ]
  },
  {
   "cell_type": "code",
   "execution_count": null,
   "id": "c2ff5640",
   "metadata": {},
   "outputs": [],
   "source": []
  }
 ],
 "metadata": {
  "kernelspec": {
   "display_name": "Python 3 (ipykernel)",
   "language": "python",
   "name": "python3"
  },
  "language_info": {
   "codemirror_mode": {
    "name": "ipython",
    "version": 3
   },
   "file_extension": ".py",
   "mimetype": "text/x-python",
   "name": "python",
   "nbconvert_exporter": "python",
   "pygments_lexer": "ipython3",
   "version": "3.9.12"
  }
 },
 "nbformat": 4,
 "nbformat_minor": 5
}
