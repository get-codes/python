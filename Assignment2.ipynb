{
 "cells": [
  {
   "cell_type": "markdown",
   "id": "807013ba",
   "metadata": {},
   "source": [
    "# Program to perform following operations:\n",
    "## a. Print the list of prime number upto 50."
   ]
  },
  {
   "cell_type": "code",
   "execution_count": 40,
   "id": "a8981c27",
   "metadata": {},
   "outputs": [
    {
     "name": "stdout",
     "output_type": "stream",
     "text": [
      "[2, 3, 5, 7, 11, 13, 17, 19, 23, 29, 31, 37, 41, 43, 47]\n"
     ]
    }
   ],
   "source": [
    "def prime():\n",
    "    l = []\n",
    "    for i in range(2,51):\n",
    "        count = 0\n",
    "        for j in range(2,i):\n",
    "            if(i%j == 0):\n",
    "                count = 1\n",
    "                break\n",
    "        if(count == 0):\n",
    "            l.append(i)\n",
    "    return l\n",
    "        \n",
    "l = prime()\n",
    "print(l)"
   ]
  },
  {
   "cell_type": "markdown",
   "id": "907e0d4d",
   "metadata": {},
   "source": [
    "## b. Insert an integer at given index\n"
   ]
  },
  {
   "cell_type": "code",
   "execution_count": 41,
   "id": "a9eb6cd2",
   "metadata": {},
   "outputs": [
    {
     "name": "stdout",
     "output_type": "stream",
     "text": [
      "Enter the index where integer is to be inserted: 2\n",
      "Enter the number to be inserted in the list: 10\n",
      "[2, 3, 10, 5, 7, 11, 13, 17, 19, 23, 29, 31, 37, 41, 43, 47]\n"
     ]
    }
   ],
   "source": [
    "index = eval(input('Enter the index where integer is to be inserted: '))\n",
    "num = eval(input ('Enter the number to be inserted in the list: '))\n",
    "l.insert(index, num)\n",
    "print(l)"
   ]
  },
  {
   "cell_type": "markdown",
   "id": "540a8f81",
   "metadata": {},
   "source": [
    "## c. Remove inserted element from the list"
   ]
  },
  {
   "cell_type": "code",
   "execution_count": 42,
   "id": "e0c1a150",
   "metadata": {},
   "outputs": [
    {
     "name": "stdout",
     "output_type": "stream",
     "text": [
      "[2, 3, 5, 7, 11, 13, 17, 19, 23, 29, 31, 37, 41, 43, 47]\n"
     ]
    }
   ],
   "source": [
    "l.remove(num)\n",
    "print(l)"
   ]
  },
  {
   "cell_type": "markdown",
   "id": "ef9a78fe",
   "metadata": {},
   "source": [
    "## d. Sort the list"
   ]
  },
  {
   "cell_type": "code",
   "execution_count": 43,
   "id": "5bee2ad2",
   "metadata": {},
   "outputs": [
    {
     "name": "stdout",
     "output_type": "stream",
     "text": [
      "[2, 3, 5, 7, 11, 13, 17, 19, 23, 29, 31, 37, 41, 43, 47]\n"
     ]
    }
   ],
   "source": [
    "l.sort()\n",
    "print(l)"
   ]
  },
  {
   "cell_type": "markdown",
   "id": "01cce1a9",
   "metadata": {},
   "source": [
    "## e. Pop last element from the list"
   ]
  },
  {
   "cell_type": "code",
   "execution_count": 44,
   "id": "093e1aa3",
   "metadata": {},
   "outputs": [
    {
     "name": "stdout",
     "output_type": "stream",
     "text": [
      "[2, 3, 5, 7, 11, 13, 17, 19, 23, 29, 31, 37, 41, 43]\n"
     ]
    }
   ],
   "source": [
    "l.pop()\n",
    "print(l)"
   ]
  },
  {
   "cell_type": "markdown",
   "id": "1b1d3b36",
   "metadata": {},
   "source": [
    "## f. Reverse the list"
   ]
  },
  {
   "cell_type": "code",
   "execution_count": 45,
   "id": "97d09290",
   "metadata": {},
   "outputs": [
    {
     "name": "stdout",
     "output_type": "stream",
     "text": [
      "[43, 41, 37, 31, 29, 23, 19, 17, 13, 11, 7, 5, 3, 2]\n"
     ]
    }
   ],
   "source": [
    "l.reverse()\n",
    "print(l)"
   ]
  },
  {
   "cell_type": "markdown",
   "id": "05b1cd3c",
   "metadata": {},
   "source": [
    "## g. Largest and Second Largest number from the list"
   ]
  },
  {
   "cell_type": "code",
   "execution_count": 46,
   "id": "cb6cf713",
   "metadata": {},
   "outputs": [
    {
     "name": "stdout",
     "output_type": "stream",
     "text": [
      "Largest: 43\n",
      "Second Largest: 41\n"
     ]
    }
   ],
   "source": [
    "print('Largest:', l[0])\n",
    "print('Second Largest:', l[1])"
   ]
  },
  {
   "cell_type": "markdown",
   "id": "b046a92c",
   "metadata": {},
   "source": [
    "## h. Count the number of Vowels of a string using list"
   ]
  },
  {
   "cell_type": "code",
   "execution_count": 47,
   "id": "df90e92f",
   "metadata": {},
   "outputs": [
    {
     "name": "stdout",
     "output_type": "stream",
     "text": [
      "Enter a String: National Institute of Technology, Raipur\n",
      "Total vowels are : 15\n"
     ]
    }
   ],
   "source": [
    "str = input('Enter a String: ')\n",
    "count = 0\n",
    "str = str.lower()\n",
    "l = list(str)\n",
    "for i in l:\n",
    "    if i == 'a' or i =='e' or i == 'i' or i == 'o' or i == 'u':\n",
    "        count = count + 1\n",
    "if count == 0:\n",
    "    print('No vowels found')\n",
    "else:\n",
    "    print('Total vowels are :',count)\n"
   ]
  },
  {
   "cell_type": "code",
   "execution_count": null,
   "id": "efaee470",
   "metadata": {},
   "outputs": [],
   "source": []
  }
 ],
 "metadata": {
  "kernelspec": {
   "display_name": "Python 3 (ipykernel)",
   "language": "python",
   "name": "python3"
  },
  "language_info": {
   "codemirror_mode": {
    "name": "ipython",
    "version": 3
   },
   "file_extension": ".py",
   "mimetype": "text/x-python",
   "name": "python",
   "nbconvert_exporter": "python",
   "pygments_lexer": "ipython3",
   "version": "3.9.12"
  }
 },
 "nbformat": 4,
 "nbformat_minor": 5
}
