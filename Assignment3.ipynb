{
 "cells": [
  {
   "cell_type": "markdown",
   "id": "ab4ec59e",
   "metadata": {},
   "source": [
    "# a) Print set of Natural numbers and Prime numbers upto 20"
   ]
  },
  {
   "cell_type": "markdown",
   "id": "aab8cb97",
   "metadata": {},
   "source": [
    "## Natural Numbers upto 20"
   ]
  },
  {
   "cell_type": "code",
   "execution_count": 27,
   "id": "02792b7d",
   "metadata": {},
   "outputs": [
    {
     "name": "stdout",
     "output_type": "stream",
     "text": [
      "Natural Numbers - {1, 2, 3, 4, 5, 6, 7, 8, 9, 10, 11, 12, 13, 14, 15, 16, 17, 18, 19, 20}\n"
     ]
    }
   ],
   "source": [
    "S = set()\n",
    "for i in range (1,21):\n",
    "    S.add(i)\n",
    "print('Natural Numbers -', S)"
   ]
  },
  {
   "cell_type": "markdown",
   "id": "1d3d5452",
   "metadata": {},
   "source": [
    "## Prime Numbers upto 20"
   ]
  },
  {
   "cell_type": "code",
   "execution_count": 28,
   "id": "56926df4",
   "metadata": {},
   "outputs": [
    {
     "name": "stdout",
     "output_type": "stream",
     "text": [
      "Prime Numbers - {2, 3, 5, 7, 11, 13, 17, 19}\n"
     ]
    }
   ],
   "source": [
    "def prime():\n",
    "    S2 = set()\n",
    "    for i in range(2,21):\n",
    "        count = 0\n",
    "        for j in range(2,i):\n",
    "            if(i%j == 0):\n",
    "                count = 1\n",
    "                break\n",
    "        if(count == 0):\n",
    "            S2.add(i)\n",
    "    return S2\n",
    "        \n",
    "S2 = prime()\n",
    "print('Prime Numbers -', S2)"
   ]
  },
  {
   "cell_type": "markdown",
   "id": "13b4fef3",
   "metadata": {},
   "source": [
    "## 1. Set Difference"
   ]
  },
  {
   "cell_type": "code",
   "execution_count": 29,
   "id": "0d04a705",
   "metadata": {},
   "outputs": [
    {
     "name": "stdout",
     "output_type": "stream",
     "text": [
      "{1, 4, 6, 8, 9, 10, 12, 14, 15, 16, 18, 20}\n"
     ]
    }
   ],
   "source": [
    "print(S-S2)"
   ]
  },
  {
   "cell_type": "markdown",
   "id": "2365df35",
   "metadata": {},
   "source": [
    "## 2. Intersection of Sets"
   ]
  },
  {
   "cell_type": "code",
   "execution_count": 30,
   "id": "2dbdcefb",
   "metadata": {},
   "outputs": [
    {
     "name": "stdout",
     "output_type": "stream",
     "text": [
      "{2, 3, 5, 7, 11, 13, 17, 19}\n"
     ]
    }
   ],
   "source": [
    "print(S&S2)"
   ]
  },
  {
   "cell_type": "markdown",
   "id": "2c2b4640",
   "metadata": {},
   "source": [
    "## 3. Union of Sets"
   ]
  },
  {
   "cell_type": "code",
   "execution_count": 31,
   "id": "b55d75c4",
   "metadata": {},
   "outputs": [
    {
     "name": "stdout",
     "output_type": "stream",
     "text": [
      "{1, 2, 3, 4, 5, 6, 7, 8, 9, 10, 11, 12, 13, 14, 15, 16, 17, 18, 19, 20}\n"
     ]
    }
   ],
   "source": [
    "print(S|S2)"
   ]
  },
  {
   "cell_type": "markdown",
   "id": "bc3acad5",
   "metadata": {},
   "source": [
    "# b) Count the number of vowels in a given string using set "
   ]
  },
  {
   "cell_type": "code",
   "execution_count": 32,
   "id": "17e7d742",
   "metadata": {},
   "outputs": [
    {
     "name": "stdout",
     "output_type": "stream",
     "text": [
      "Total vowels are : 15\n"
     ]
    }
   ],
   "source": [
    "str = \"National Institute of Technology, Raipur\"\n",
    "vowel = set(\"aeiouAEIOU\")\n",
    "#print(vowel)\n",
    "#print(str)\n",
    "count = 0\n",
    "for i in str:\n",
    "    for j in vowel:\n",
    "        if i == j:\n",
    "            count = count + 1\n",
    "            break\n",
    "if count == 0:\n",
    "    print('No vowels found')\n",
    "else:\n",
    "    print('Total vowels are :',count)\n"
   ]
  },
  {
   "cell_type": "markdown",
   "id": "52608c55",
   "metadata": {},
   "source": [
    "# c) Convert list into Set and Tuple"
   ]
  },
  {
   "cell_type": "code",
   "execution_count": 33,
   "id": "b7624438",
   "metadata": {},
   "outputs": [
    {
     "name": "stdout",
     "output_type": "stream",
     "text": [
      "List - [2, 9, 8, 7, 2, 6, 8, 2, 6]\n",
      "Set - {2, 6, 7, 8, 9}\n",
      "Tuple - (2, 9, 8, 7, 2, 6, 8, 2, 6)\n"
     ]
    }
   ],
   "source": [
    "l = [2,9,8,7,2,6,8,2,6]\n",
    "print('List -', l)\n",
    "s = set(l)\n",
    "print ('Set -',s)\n",
    "t = tuple(l)\n",
    "print ('Tuple -', t)"
   ]
  },
  {
   "cell_type": "markdown",
   "id": "d7851fbb",
   "metadata": {},
   "source": [
    "# d) Find maximum and minimum number obtained "
   ]
  },
  {
   "cell_type": "code",
   "execution_count": 34,
   "id": "2f27beea",
   "metadata": {},
   "outputs": [
    {
     "name": "stdout",
     "output_type": "stream",
     "text": [
      "Maximum number - 9\n",
      "Minimum number - 2\n"
     ]
    }
   ],
   "source": [
    "print('Maximum number -', max(s))\n",
    "print('Minimum number -', min(s))"
   ]
  },
  {
   "cell_type": "markdown",
   "id": "3992fb09",
   "metadata": {},
   "source": [
    "# e) Remove the element from the set to create empty set"
   ]
  },
  {
   "cell_type": "code",
   "execution_count": 35,
   "id": "4375a1c2",
   "metadata": {},
   "outputs": [
    {
     "name": "stdout",
     "output_type": "stream",
     "text": [
      "Set - set()\n"
     ]
    }
   ],
   "source": [
    "s.clear()\n",
    "print('Set -', s)"
   ]
  },
  {
   "cell_type": "markdown",
   "id": "59129beb",
   "metadata": {},
   "source": [
    "# f) Check whether Panagram or not"
   ]
  },
  {
   "cell_type": "code",
   "execution_count": 36,
   "id": "a2c3de36",
   "metadata": {},
   "outputs": [
    {
     "name": "stdout",
     "output_type": "stream",
     "text": [
      "Enter a string: The quick brown fox jumps over the lazy dog\n",
      "String is Panagram\n"
     ]
    }
   ],
   "source": [
    "import string\n",
    "loweralpha = string.ascii_lowercase\n",
    "loweralpha = set(loweralpha)\n",
    "#print(loweralpha)\n",
    "str = input(\"Enter a string: \") \n",
    "str = str.lower()\n",
    "str = set(str)\n",
    "#print(str)\n",
    "\n",
    "if str >= loweralpha:\n",
    "    print('String is Panagram')\n",
    "else:\n",
    "    print('String is NOT Panagram')\n"
   ]
  },
  {
   "cell_type": "code",
   "execution_count": null,
   "id": "ddaf0abb",
   "metadata": {},
   "outputs": [],
   "source": []
  }
 ],
 "metadata": {
  "kernelspec": {
   "display_name": "Python 3 (ipykernel)",
   "language": "python",
   "name": "python3"
  },
  "language_info": {
   "codemirror_mode": {
    "name": "ipython",
    "version": 3
   },
   "file_extension": ".py",
   "mimetype": "text/x-python",
   "name": "python",
   "nbconvert_exporter": "python",
   "pygments_lexer": "ipython3",
   "version": "3.9.12"
  }
 },
 "nbformat": 4,
 "nbformat_minor": 5
}
