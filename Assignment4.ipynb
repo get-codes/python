{
 "cells": [
  {
   "cell_type": "markdown",
   "id": "59821635",
   "metadata": {},
   "source": [
    "# Write a python program for the following:"
   ]
  },
  {
   "cell_type": "markdown",
   "id": "b8ebbc53",
   "metadata": {},
   "source": [
    "## a) Create a dictionary of student record having keys as student name and marks as values from the given two list:"
   ]
  },
  {
   "cell_type": "code",
   "execution_count": 1,
   "id": "cab8feac",
   "metadata": {},
   "outputs": [
    {
     "name": "stdout",
     "output_type": "stream",
     "text": [
      "{'A': [20, 25, 30], 'B': [18, 29, 30], 'C': [20, 27, 38], 'D': [5, 28, 30], 'E': [21, 2, 30]}\n"
     ]
    }
   ],
   "source": [
    "name = ['A', 'B', 'C','D', 'E']\n",
    "marks = [[20,25,30], [18,29,30], [20,27,38], [5,28,30], [21,2,30]]\n",
    "namemarks = dict(zip(name, marks))\n",
    "print(namemarks)"
   ]
  },
  {
   "cell_type": "code",
   "execution_count": 2,
   "id": "a333eaf6",
   "metadata": {},
   "outputs": [
    {
     "name": "stdout",
     "output_type": "stream",
     "text": [
      "{'A': 75, 'B': 77, 'C': 85, 'D': 63, 'E': 53}\n"
     ]
    }
   ],
   "source": [
    "nametotal = dict()\n",
    "\n",
    "for i in namemarks:\n",
    "    nametotal[i] = sum(namemarks[i])\n",
    "\n",
    "print(nametotal)"
   ]
  },
  {
   "cell_type": "code",
   "execution_count": 3,
   "id": "c69da385",
   "metadata": {},
   "outputs": [
    {
     "name": "stdout",
     "output_type": "stream",
     "text": [
      "Sorted Dictionary - {'C': 85, 'B': 77, 'A': 75, 'D': 63, 'E': 53}\n"
     ]
    }
   ],
   "source": [
    "sorted_values = sorted(nametotal.values(), reverse = True)\n",
    "#print(sorted_values)\n",
    "sorted_dict = dict()\n",
    "\n",
    "for i in sorted_values:\n",
    "    for j in nametotal:\n",
    "        if nametotal[j] == i:\n",
    "            sorted_dict[j] = i\n",
    "            break\n",
    "print('Sorted Dictionary -', sorted_dict)"
   ]
  },
  {
   "cell_type": "code",
   "execution_count": 4,
   "id": "1e11a056",
   "metadata": {},
   "outputs": [
    {
     "name": "stdout",
     "output_type": "stream",
     "text": [
      "Array is - [1 8 8 9 7 6 6 0 7 4 3 2 7]\n"
     ]
    }
   ],
   "source": [
    "import numpy as np\n",
    "l = [1,8,8,9,7,6,6,0,7,4,3,2,7]\n",
    "a = np.array(l)\n",
    "#print(type(a))\n",
    "print('Array is -',a)"
   ]
  },
  {
   "cell_type": "code",
   "execution_count": 5,
   "id": "fb13ff7c",
   "metadata": {},
   "outputs": [
    {
     "name": "stdout",
     "output_type": "stream",
     "text": [
      "Reverse using Slicing - [7, 2, 3, 4, 7, 0, 6, 6, 7, 9, 8, 8, 1]\n",
      "Reverse using Flipud - [7 2 3 4 7 0 6 6 7 9 8 8 1]\n"
     ]
    }
   ],
   "source": [
    "rev = l[::-1]\n",
    "print('Reverse using Slicing -', rev)\n",
    "rev2 = np.flipud(l)\n",
    "print('Reverse using Flipud -', rev2)"
   ]
  },
  {
   "cell_type": "code",
   "execution_count": 6,
   "id": "0f72d0c9",
   "metadata": {},
   "outputs": [
    {
     "name": "stdout",
     "output_type": "stream",
     "text": [
      "Size of array - 13\n"
     ]
    }
   ],
   "source": [
    "print('Size of array -',len(a))"
   ]
  },
  {
   "cell_type": "code",
   "execution_count": 7,
   "id": "2eb55308",
   "metadata": {},
   "outputs": [
    {
     "name": "stdout",
     "output_type": "stream",
     "text": [
      "Sorted array - [0 1 2 3 4 6 6 7 7 7 8 8 9]\n"
     ]
    }
   ],
   "source": [
    "a = np.sort(a)\n",
    "print('Sorted array -', a)"
   ]
  },
  {
   "cell_type": "code",
   "execution_count": 8,
   "id": "02abbd7d",
   "metadata": {},
   "outputs": [
    {
     "name": "stdout",
     "output_type": "stream",
     "text": [
      "Frequency of each element in the array - {0: 1, 1: 1, 2: 1, 3: 1, 4: 1, 6: 2, 7: 3, 8: 2, 9: 1}\n"
     ]
    }
   ],
   "source": [
    "count = dict()\n",
    "for i in a:\n",
    "    if i in count:\n",
    "        count[i] = count[i] + 1\n",
    "    else: \n",
    "        count[i] = 1\n",
    "\n",
    "print('Frequency of each element in the array -', count)"
   ]
  },
  {
   "cell_type": "code",
   "execution_count": null,
   "id": "9ccdad5c",
   "metadata": {},
   "outputs": [],
   "source": []
  }
 ],
 "metadata": {
  "kernelspec": {
   "display_name": "Python 3 (ipykernel)",
   "language": "python",
   "name": "python3"
  },
  "language_info": {
   "codemirror_mode": {
    "name": "ipython",
    "version": 3
   },
   "file_extension": ".py",
   "mimetype": "text/x-python",
   "name": "python",
   "nbconvert_exporter": "python",
   "pygments_lexer": "ipython3",
   "version": "3.9.12"
  }
 },
 "nbformat": 4,
 "nbformat_minor": 5
}
