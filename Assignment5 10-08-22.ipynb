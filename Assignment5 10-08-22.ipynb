{
 "cells": [
  {
   "cell_type": "markdown",
   "id": "f287cdd8",
   "metadata": {},
   "source": [
    "# Write a python program to perform the following operations"
   ]
  },
  {
   "cell_type": "markdown",
   "id": "9f6ef596",
   "metadata": {},
   "source": [
    "## a) Print two square matrix of order 3 * 3 by taking input from the user"
   ]
  },
  {
   "cell_type": "code",
   "execution_count": 1,
   "id": "ad2579cf",
   "metadata": {},
   "outputs": [],
   "source": [
    "import numpy as np\n",
    "\n",
    "a = np.zeros((3,3) , dtype = int)\n",
    "b = np.zeros((3,3) , dtype = int)\n"
   ]
  },
  {
   "cell_type": "code",
   "execution_count": 18,
   "id": "00cecf47",
   "metadata": {},
   "outputs": [
    {
     "name": "stdout",
     "output_type": "stream",
     "text": [
      "Enter A[0][0] element of matrix: 4\n",
      "Enter A[0][1] element of matrix: 8\n",
      "Enter A[0][2] element of matrix: 6\n",
      "Enter A[1][0] element of matrix: 2\n",
      "Enter A[1][1] element of matrix: 0\n",
      "Enter A[1][2] element of matrix: 8\n",
      "Enter A[2][0] element of matrix: 2\n",
      "Enter A[2][1] element of matrix: 4\n",
      "Enter A[2][2] element of matrix: 10\n",
      "Enter B[0][0] element of matrix: 2\n",
      "Enter B[0][1] element of matrix: 4\n",
      "Enter B[0][2] element of matrix: 3\n",
      "Enter B[1][0] element of matrix: 1\n",
      "Enter B[1][1] element of matrix: 1\n",
      "Enter B[1][2] element of matrix: 2\n",
      "Enter B[2][0] element of matrix: 2\n",
      "Enter B[2][1] element of matrix: 4\n",
      "Enter B[2][2] element of matrix: 5\n",
      "\n",
      " Array A: \n",
      " [[ 4  8  6]\n",
      " [ 2  0  8]\n",
      " [ 2  4 10]]\n",
      "\n",
      " Array B: \n",
      " [[2 4 3]\n",
      " [1 1 2]\n",
      " [2 4 5]]\n"
     ]
    }
   ],
   "source": [
    "for i in range(len(a)):\n",
    "    for j in range(len(a[0])):\n",
    "        a[i][j] = int(input(f'Enter A[{i}][{j}] element of matrix: '))\n",
    "\n",
    "for i in range(len(b)):\n",
    "    for j in range(len(b[0])):\n",
    "        b[i][j] = int(input(f'Enter B[{i}][{j}] element of matrix: '))\n",
    "\n",
    "print(\"\\n Array A: \\n\",a)\n",
    "print(\"\\n Array B: \\n\",b)\n",
    "               "
   ]
  },
  {
   "cell_type": "markdown",
   "id": "3fe5c9a3",
   "metadata": {},
   "source": [
    "## Preform the following operations using numpy functions:"
   ]
  },
  {
   "cell_type": "markdown",
   "id": "6e4f73f1",
   "metadata": {},
   "source": [
    "### a) Addition"
   ]
  },
  {
   "cell_type": "code",
   "execution_count": 19,
   "id": "3698e73f",
   "metadata": {},
   "outputs": [
    {
     "name": "stdout",
     "output_type": "stream",
     "text": [
      "Resultant Matrix:\n",
      " [[ 6 12  9]\n",
      " [ 3  1 10]\n",
      " [ 4  8 15]]\n"
     ]
    }
   ],
   "source": [
    "#addition of Matrix A and B\n",
    "addMat = np.add(a,b)\n",
    "#addMat = a + b\n",
    "print('Resultant Matrix:\\n', addMat)"
   ]
  },
  {
   "cell_type": "markdown",
   "id": "c8271250",
   "metadata": {},
   "source": [
    "### b) Subtraction"
   ]
  },
  {
   "cell_type": "code",
   "execution_count": 20,
   "id": "e6d278ae",
   "metadata": {},
   "outputs": [
    {
     "name": "stdout",
     "output_type": "stream",
     "text": [
      "Resultant Matrix:\n",
      " [[ 2  4  3]\n",
      " [ 1 -1  6]\n",
      " [ 0  0  5]]\n"
     ]
    }
   ],
   "source": [
    "#Subtraction of Matrix A and B\n",
    "subMat = np.subtract(a,b)\n",
    "#subMat = a-b\n",
    "print('Resultant Matrix:\\n',subMat)"
   ]
  },
  {
   "cell_type": "markdown",
   "id": "31be542b",
   "metadata": {},
   "source": [
    "### c) Division "
   ]
  },
  {
   "cell_type": "code",
   "execution_count": 21,
   "id": "4559dff4",
   "metadata": {},
   "outputs": [
    {
     "name": "stdout",
     "output_type": "stream",
     "text": [
      "Matrix Division:\n",
      " [[2. 2. 2.]\n",
      " [2. 0. 4.]\n",
      " [1. 1. 2.]]\n"
     ]
    }
   ],
   "source": [
    "#division of Matrix A and B\n",
    "divMat = np.divide(a,b)\n",
    "#divMat = a/b\n",
    "print('Matrix Division:\\n',divMat)"
   ]
  },
  {
   "cell_type": "markdown",
   "id": "ff0585d0",
   "metadata": {},
   "source": [
    "## Perform matrix multiplication using loops"
   ]
  },
  {
   "cell_type": "code",
   "execution_count": 22,
   "id": "e3dd454f",
   "metadata": {},
   "outputs": [
    {
     "name": "stdout",
     "output_type": "stream",
     "text": [
      "Multiplied Matrix:\n",
      " [[28 48 58]\n",
      " [20 40 46]\n",
      " [28 52 64]]\n"
     ]
    }
   ],
   "source": [
    "multiplyMat = np.zeros((3,3), dtype=int)\n",
    "for i in range(0,3):\n",
    "    for j in range(0,3):\n",
    "        for k in range(0,3):\n",
    "            multiplyMat[i][j] = multiplyMat[i][j] + (a[i][k] * b[k][j])\n",
    "\n",
    "print ('Multiplied Matrix:\\n', multiplyMat)"
   ]
  },
  {
   "cell_type": "code",
   "execution_count": 23,
   "id": "680e45b3",
   "metadata": {},
   "outputs": [
    {
     "name": "stdout",
     "output_type": "stream",
     "text": [
      "Multiplied Matrix:\n",
      " [[28 48 58]\n",
      " [20 40 46]\n",
      " [28 52 64]]\n"
     ]
    }
   ],
   "source": [
    "mulMat = np.matmul(a,b)\n",
    "#mulMat2 = np.dot(a,b)\n",
    "#mulMat3 = a@b\n",
    "print('Multiplied Matrix:\\n',mulMat)"
   ]
  },
  {
   "cell_type": "markdown",
   "id": "a0bc13c4",
   "metadata": {},
   "source": [
    "## Print transpose of both Matrix"
   ]
  },
  {
   "cell_type": "code",
   "execution_count": 24,
   "id": "c51127bd",
   "metadata": {},
   "outputs": [
    {
     "name": "stdout",
     "output_type": "stream",
     "text": [
      "A Transpose:\n",
      " [[ 4  2  2]\n",
      " [ 8  0  4]\n",
      " [ 6  8 10]]\n",
      "B Transpose:\n",
      " [[2 1 2]\n",
      " [4 1 4]\n",
      " [3 2 5]]\n"
     ]
    }
   ],
   "source": [
    "tA = np.transpose(a)\n",
    "print('A Transpose:\\n', tA)\n",
    "\n",
    "\n",
    "tB = np.transpose(b)\n",
    "print('B Transpose:\\n', tB)"
   ]
  },
  {
   "cell_type": "markdown",
   "id": "a51b1773",
   "metadata": {},
   "source": []
  },
  {
   "cell_type": "code",
   "execution_count": null,
   "id": "2767a50a",
   "metadata": {},
   "outputs": [],
   "source": []
  }
 ],
 "metadata": {
  "kernelspec": {
   "display_name": "Python 3 (ipykernel)",
   "language": "python",
   "name": "python3"
  },
  "language_info": {
   "codemirror_mode": {
    "name": "ipython",
    "version": 3
   },
   "file_extension": ".py",
   "mimetype": "text/x-python",
   "name": "python",
   "nbconvert_exporter": "python",
   "pygments_lexer": "ipython3",
   "version": "3.9.12"
  }
 },
 "nbformat": 4,
 "nbformat_minor": 5
}
