{
 "cells": [
  {
   "cell_type": "markdown",
   "id": "4f23a67f",
   "metadata": {},
   "source": [
    "# Automatic Outlier Detection"
   ]
  },
  {
   "cell_type": "code",
   "execution_count": 1,
   "id": "7ddae520",
   "metadata": {},
   "outputs": [
    {
     "name": "stdout",
     "output_type": "stream",
     "text": [
      "(505, 13) (505,)\n",
      "(353, 13) (152, 13) (353,) (152,)\n"
     ]
    }
   ],
   "source": [
    "#Load and summarize the dataset\n",
    "from pandas import read_csv\n",
    "from sklearn.model_selection import train_test_split\n",
    "\n",
    "# load the dataset\n",
    "df=read_csv('housing_1.csv')\n",
    "#retrieve the array\n",
    "data=df.values\n",
    "# split into input and output elements\n",
    "X,y=data[:, :-1],data[: ,-1]\n",
    "#summarize the shape of the dataset\n",
    "print(X.shape,y.shape)\n",
    "#split into train and test sets\n",
    "X_train, X_test, y_train, y_test=train_test_split(X,y,test_size=0.3, random_state=1)\n",
    "#summarize the shape of the train and test sets\n",
    "print(X_train.shape,X_test.shape,y_train.shape,y_test.shape)"
   ]
  },
  {
   "cell_type": "code",
   "execution_count": null,
   "id": "a9933f42",
   "metadata": {},
   "outputs": [],
   "source": [
    "#NOT TO BE INCLUDED IN PRACTICAL\n",
    "df.isnull().sum()"
   ]
  },
  {
   "cell_type": "markdown",
   "id": "c1a4d7db",
   "metadata": {},
   "source": [
    "# Baseline Model Performance"
   ]
  },
  {
   "cell_type": "code",
   "execution_count": 2,
   "id": "6c755fa8",
   "metadata": {},
   "outputs": [
    {
     "name": "stdout",
     "output_type": "stream",
     "text": [
      "MAE: 3.656\n"
     ]
    }
   ],
   "source": [
    "#evaluate model on the raw dataset\n",
    "from pandas import read_csv\n",
    "from sklearn.model_selection import train_test_split\n",
    "from sklearn.linear_model import LinearRegression \n",
    "from sklearn.metrics import mean_absolute_error\n",
    "#load dataset\n",
    "df=read_csv('housing_1.csv')\n",
    "#retrieve the array\n",
    "data=df.values\n",
    "# split into input and output elements\n",
    "X,y=data[:, :-1],data[: ,-1]\n",
    "#split into train and test sets\n",
    "X_train, X_test, y_train, y_test=train_test_split(X,y,test_size=0.33, random_state=1)\n",
    "#fit the model\n",
    "model=LinearRegression()\n",
    "model.fit(X_train,y_train)\n",
    "#evaluate the model\n",
    "yhat=model.predict(X_test)\n",
    "#evaluate predictions\n",
    "mae=mean_absolute_error(y_test,yhat)\n",
    "print('MAE: %.3f' %mae)"
   ]
  },
  {
   "cell_type": "markdown",
   "id": "ac71b035",
   "metadata": {},
   "source": [
    "# Automatic Outlier Detection\n",
    "# Method 1. Isolation Forest"
   ]
  },
  {
   "cell_type": "code",
   "execution_count": 3,
   "id": "3d4d8e9c",
   "metadata": {},
   "outputs": [
    {
     "name": "stdout",
     "output_type": "stream",
     "text": [
      "(338, 13) (338,)\n",
      "(304, 13) (304,)\n",
      "MAE: 3.423\n"
     ]
    }
   ],
   "source": [
    "#evaluate model performance with outliers removed using isolation forest\n",
    "from pandas import read_csv\n",
    "from sklearn.model_selection import train_test_split\n",
    "from sklearn.linear_model import LinearRegression \n",
    "from sklearn.ensemble import IsolationForest\n",
    "from sklearn.metrics import mean_absolute_error\n",
    "\n",
    "#load the dataset\n",
    "df=read_csv('housing_1.csv')\n",
    "\n",
    "#retrieve the array\n",
    "data=df.values\n",
    "# split into input and output elements\n",
    "X,y=data[:, :-1],data[: ,-1]\n",
    "\n",
    "#split into train and test sets\n",
    "X_train, X_test, y_train, y_test=train_test_split(X,y,test_size=0.33, random_state=1)\n",
    "\n",
    "#summarize the shape of the training dataset\n",
    "print(X_train.shape,y_train.shape)\n",
    "\n",
    "#identify outliers in the training dataset\n",
    "iso=IsolationForest(contamination=0.1)\n",
    "yhat=iso.fit_predict(X_train)\n",
    "\n",
    "#select all rows that are not outliers\n",
    "mask=yhat!=-1\n",
    "X_train,y_train=X_train[mask,:],y_train[mask]\n",
    "\n",
    "#summarise the shape of the updated training dataset\n",
    "print(X_train.shape,y_train.shape)\n",
    "\n",
    "#fit the model\n",
    "model=LinearRegression()\n",
    "model.fit(X_train,y_train)\n",
    "\n",
    "#evaluate the model\n",
    "yhat=model.predict(X_test)\n",
    "\n",
    "#evaluate predictions\n",
    "mae=mean_absolute_error(y_test,yhat)\n",
    "print('MAE: %.3f' %mae)\n"
   ]
  },
  {
   "cell_type": "markdown",
   "id": "d670fe1f",
   "metadata": {},
   "source": [
    "# Method 2. Minimum Covariance Determinant"
   ]
  },
  {
   "cell_type": "code",
   "execution_count": 4,
   "id": "0e8d259c",
   "metadata": {},
   "outputs": [
    {
     "name": "stdout",
     "output_type": "stream",
     "text": [
      "(338, 13) (338,)\n",
      "(334, 13) (334,)\n",
      "MAE: 3.652\n"
     ]
    }
   ],
   "source": [
    "#evaluate model performance with outliers removed using elliptical envelope\n",
    "from pandas import read_csv\n",
    "from sklearn.model_selection import train_test_split\n",
    "from sklearn.linear_model import LinearRegression \n",
    "from sklearn.covariance import EllipticEnvelope\n",
    "from sklearn.metrics import mean_absolute_error\n",
    "\n",
    "#load the dataset\n",
    "df=read_csv('housing_1.csv')\n",
    "\n",
    "#retrieve the array\n",
    "data=df.values\n",
    "\n",
    "# split into input and output elements\n",
    "X,y=data[:, :-1],data[: ,-1]\n",
    "\n",
    "#split into train and test sets\n",
    "X_train, X_test, y_train, y_test=train_test_split(X,y,test_size=0.33, random_state=1)\n",
    "\n",
    "#summarize the shape of the training dataset\n",
    "print(X_train.shape,y_train.shape)\n",
    "\n",
    "#identify outliers in the training dataset\n",
    "ee=EllipticEnvelope(contamination=0.01)\n",
    "yhat=ee.fit_predict(X_train)\n",
    "\n",
    "#select all rows that are not outliers\n",
    "mask=yhat!=-1\n",
    "X_train,y_train=X_train[mask,:],y_train[mask]\n",
    "\n",
    "#summarise the shape of the updated training dataset\n",
    "print(X_train.shape,y_train.shape)\n",
    "\n",
    "#fit the model\n",
    "model=LinearRegression()\n",
    "model.fit(X_train,y_train)\n",
    "\n",
    "#evaluate the model\n",
    "yhat=model.predict(X_test)\n",
    "\n",
    "#evaluate predictions\n",
    "mae=mean_absolute_error(y_test,yhat)\n",
    "print('MAE: %.3f' %mae)"
   ]
  },
  {
   "cell_type": "markdown",
   "id": "de456c7f",
   "metadata": {},
   "source": [
    "# Method 3. Local Outlier Factor"
   ]
  },
  {
   "cell_type": "code",
   "execution_count": 5,
   "id": "1def15c2",
   "metadata": {},
   "outputs": [
    {
     "name": "stdout",
     "output_type": "stream",
     "text": [
      "(338, 13) (338,)\n",
      "(291, 13) (291,)\n",
      "MAE: 3.590\n"
     ]
    }
   ],
   "source": [
    "#evaluate model performance with outliers removed using local outlier factor\n",
    "from pandas import read_csv\n",
    "from sklearn.model_selection import train_test_split\n",
    "from sklearn.linear_model import LinearRegression \n",
    "from sklearn.neighbors import LocalOutlierFactor\n",
    "from sklearn.metrics import mean_absolute_error\n",
    "\n",
    "#load the dataset\n",
    "df=read_csv('housing_1.csv')\n",
    "\n",
    "#retrieve the array\n",
    "data=df.values\n",
    "\n",
    "# split into input and output elements\n",
    "X,y=data[:, :-1],data[: ,-1]\n",
    "\n",
    "#split into train and test sets\n",
    "X_train, X_test, y_train, y_test=train_test_split(X,y,test_size=0.33, random_state=1)\n",
    "\n",
    "#summarize the shape of the training dataset\n",
    "print(X_train.shape,y_train.shape)\n",
    "\n",
    "#identify outliers in the training dataset\n",
    "lof = LocalOutlierFactor()\n",
    "yhat = lof.fit_predict(X_train)\n",
    "\n",
    "#select all rows that are not outliers\n",
    "mask=yhat!=-1\n",
    "X_train,y_train=X_train[mask,:],y_train[mask]\n",
    "\n",
    "#summarise the shape of the updated training dataset\n",
    "print(X_train.shape,y_train.shape)\n",
    "\n",
    "#fit the model\n",
    "model=LinearRegression()\n",
    "model.fit(X_train,y_train)\n",
    "\n",
    "#evaluate the model\n",
    "yhat=model.predict(X_test)\n",
    "\n",
    "#evaluate predictions\n",
    "mae=mean_absolute_error(y_test,yhat)\n",
    "print('MAE: %.3f' %mae)"
   ]
  },
  {
   "cell_type": "markdown",
   "id": "91089162",
   "metadata": {},
   "source": [
    "# Method 4. One Class SVM"
   ]
  },
  {
   "cell_type": "code",
   "execution_count": 6,
   "id": "2f2d9e71",
   "metadata": {},
   "outputs": [
    {
     "name": "stdout",
     "output_type": "stream",
     "text": [
      "(338, 13) (338,)\n",
      "(333, 13) (333,)\n",
      "MAE: 3.682\n"
     ]
    }
   ],
   "source": [
    "#evaluate model performance with outliers removed using one class svm\n",
    "from pandas import read_csv\n",
    "from sklearn.model_selection import train_test_split\n",
    "from sklearn.linear_model import LinearRegression \n",
    "from sklearn.svm import OneClassSVM\n",
    "from sklearn.metrics import mean_absolute_error\n",
    "\n",
    "#load the dataset\n",
    "df=read_csv('housing_1.csv')\n",
    "\n",
    "#retrieve the array\n",
    "data=df.values\n",
    "\n",
    "# split into input and output elements\n",
    "X,y=data[:, :-1],data[: ,-1]\n",
    "\n",
    "#split into train and test sets\n",
    "X_train, X_test, y_train, y_test=train_test_split(X,y,test_size=0.33, random_state=1)\n",
    "\n",
    "#summarize the shape of the training dataset\n",
    "print(X_train.shape,y_train.shape)\n",
    "\n",
    "#identify outliers in the training dataset\n",
    "ee=OneClassSVM(nu=0.01)\n",
    "yhat=ee.fit_predict(X_train)\n",
    "\n",
    "#select all rows that are not outliers\n",
    "mask=yhat!=-1\n",
    "X_train,y_train=X_train[mask,:],y_train[mask]\n",
    "\n",
    "#summarise the shape of the updated training dataset\n",
    "print(X_train.shape,y_train.shape)\n",
    "\n",
    "#fit the model\n",
    "model=LinearRegression()\n",
    "model.fit(X_train,y_train)\n",
    "\n",
    "#evaluate the model\n",
    "yhat=model.predict(X_test)\n",
    "\n",
    "#evaluate predictions\n",
    "mae=mean_absolute_error(y_test,yhat)\n",
    "print('MAE: %.3f' %mae)"
   ]
  },
  {
   "cell_type": "code",
   "execution_count": null,
   "id": "bfc558e6",
   "metadata": {},
   "outputs": [],
   "source": []
  }
 ],
 "metadata": {
  "kernelspec": {
   "display_name": "Python 3 (ipykernel)",
   "language": "python",
   "name": "python3"
  },
  "language_info": {
   "codemirror_mode": {
    "name": "ipython",
    "version": 3
   },
   "file_extension": ".py",
   "mimetype": "text/x-python",
   "name": "python",
   "nbconvert_exporter": "python",
   "pygments_lexer": "ipython3",
   "version": "3.9.12"
  }
 },
 "nbformat": 4,
 "nbformat_minor": 5
}
