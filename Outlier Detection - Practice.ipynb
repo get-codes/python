{
 "cells": [
  {
   "cell_type": "code",
   "execution_count": 1,
   "id": "11b671e5",
   "metadata": {},
   "outputs": [],
   "source": [
    "import pandas as pd"
   ]
  },
  {
   "cell_type": "code",
   "execution_count": 2,
   "id": "73af0ec0",
   "metadata": {},
   "outputs": [
    {
     "data": {
      "text/html": [
       "<div>\n",
       "<style scoped>\n",
       "    .dataframe tbody tr th:only-of-type {\n",
       "        vertical-align: middle;\n",
       "    }\n",
       "\n",
       "    .dataframe tbody tr th {\n",
       "        vertical-align: top;\n",
       "    }\n",
       "\n",
       "    .dataframe thead th {\n",
       "        text-align: right;\n",
       "    }\n",
       "</style>\n",
       "<table border=\"1\" class=\"dataframe\">\n",
       "  <thead>\n",
       "    <tr style=\"text-align: right;\">\n",
       "      <th></th>\n",
       "      <th>0.00632</th>\n",
       "      <th>18.00</th>\n",
       "      <th>2.310</th>\n",
       "      <th>0</th>\n",
       "      <th>0.5380</th>\n",
       "      <th>6.5750</th>\n",
       "      <th>65.20</th>\n",
       "      <th>4.0900</th>\n",
       "      <th>1</th>\n",
       "      <th>296.0</th>\n",
       "      <th>15.30</th>\n",
       "      <th>396.90</th>\n",
       "      <th>4.98</th>\n",
       "      <th>24.00</th>\n",
       "    </tr>\n",
       "  </thead>\n",
       "  <tbody>\n",
       "    <tr>\n",
       "      <th>0</th>\n",
       "      <td>0.02731</td>\n",
       "      <td>0.0</td>\n",
       "      <td>7.07</td>\n",
       "      <td>0</td>\n",
       "      <td>0.469</td>\n",
       "      <td>6.421</td>\n",
       "      <td>78.9</td>\n",
       "      <td>4.9671</td>\n",
       "      <td>2</td>\n",
       "      <td>242.0</td>\n",
       "      <td>17.8</td>\n",
       "      <td>396.90</td>\n",
       "      <td>9.14</td>\n",
       "      <td>21.6</td>\n",
       "    </tr>\n",
       "    <tr>\n",
       "      <th>1</th>\n",
       "      <td>0.02729</td>\n",
       "      <td>0.0</td>\n",
       "      <td>7.07</td>\n",
       "      <td>0</td>\n",
       "      <td>0.469</td>\n",
       "      <td>7.185</td>\n",
       "      <td>61.1</td>\n",
       "      <td>4.9671</td>\n",
       "      <td>2</td>\n",
       "      <td>242.0</td>\n",
       "      <td>17.8</td>\n",
       "      <td>392.83</td>\n",
       "      <td>4.03</td>\n",
       "      <td>34.7</td>\n",
       "    </tr>\n",
       "    <tr>\n",
       "      <th>2</th>\n",
       "      <td>0.03237</td>\n",
       "      <td>0.0</td>\n",
       "      <td>2.18</td>\n",
       "      <td>0</td>\n",
       "      <td>0.458</td>\n",
       "      <td>6.998</td>\n",
       "      <td>45.8</td>\n",
       "      <td>6.0622</td>\n",
       "      <td>3</td>\n",
       "      <td>222.0</td>\n",
       "      <td>18.7</td>\n",
       "      <td>394.63</td>\n",
       "      <td>2.94</td>\n",
       "      <td>33.4</td>\n",
       "    </tr>\n",
       "    <tr>\n",
       "      <th>3</th>\n",
       "      <td>0.06905</td>\n",
       "      <td>0.0</td>\n",
       "      <td>2.18</td>\n",
       "      <td>0</td>\n",
       "      <td>0.458</td>\n",
       "      <td>7.147</td>\n",
       "      <td>54.2</td>\n",
       "      <td>6.0622</td>\n",
       "      <td>3</td>\n",
       "      <td>222.0</td>\n",
       "      <td>18.7</td>\n",
       "      <td>396.90</td>\n",
       "      <td>5.33</td>\n",
       "      <td>36.2</td>\n",
       "    </tr>\n",
       "    <tr>\n",
       "      <th>4</th>\n",
       "      <td>0.02985</td>\n",
       "      <td>0.0</td>\n",
       "      <td>2.18</td>\n",
       "      <td>0</td>\n",
       "      <td>0.458</td>\n",
       "      <td>6.430</td>\n",
       "      <td>58.7</td>\n",
       "      <td>6.0622</td>\n",
       "      <td>3</td>\n",
       "      <td>222.0</td>\n",
       "      <td>18.7</td>\n",
       "      <td>394.12</td>\n",
       "      <td>5.21</td>\n",
       "      <td>28.7</td>\n",
       "    </tr>\n",
       "  </tbody>\n",
       "</table>\n",
       "</div>"
      ],
      "text/plain": [
       "   0.00632  18.00  2.310  0  0.5380  6.5750  65.20  4.0900  1  296.0  15.30  \\\n",
       "0  0.02731    0.0   7.07  0   0.469   6.421   78.9  4.9671  2  242.0   17.8   \n",
       "1  0.02729    0.0   7.07  0   0.469   7.185   61.1  4.9671  2  242.0   17.8   \n",
       "2  0.03237    0.0   2.18  0   0.458   6.998   45.8  6.0622  3  222.0   18.7   \n",
       "3  0.06905    0.0   2.18  0   0.458   7.147   54.2  6.0622  3  222.0   18.7   \n",
       "4  0.02985    0.0   2.18  0   0.458   6.430   58.7  6.0622  3  222.0   18.7   \n",
       "\n",
       "   396.90  4.98  24.00  \n",
       "0  396.90  9.14   21.6  \n",
       "1  392.83  4.03   34.7  \n",
       "2  394.63  2.94   33.4  \n",
       "3  396.90  5.33   36.2  \n",
       "4  394.12  5.21   28.7  "
      ]
     },
     "execution_count": 2,
     "metadata": {},
     "output_type": "execute_result"
    }
   ],
   "source": [
    "data = pd.read_csv('housing_1.csv')\n",
    "data.head()"
   ]
  },
  {
   "cell_type": "code",
   "execution_count": 11,
   "id": "b330024a",
   "metadata": {},
   "outputs": [
    {
     "name": "stdout",
     "output_type": "stream",
     "text": [
      "0.00632    0\n",
      "18.00      0\n",
      "2.310      0\n",
      "0          0\n",
      "0.5380     0\n",
      "6.5750     0\n",
      "65.20      0\n",
      "4.0900     0\n",
      "1          0\n",
      "296.0      0\n",
      "15.30      0\n",
      "396.90     0\n",
      "4.98       0\n",
      "24.00      0\n",
      "dtype: int64\n"
     ]
    }
   ],
   "source": [
    "print(data.isnull().sum())\n",
    "\n",
    "x = data.iloc[:,:-1].values\n",
    "y = data.iloc[:,-1].values"
   ]
  },
  {
   "cell_type": "code",
   "execution_count": 4,
   "id": "9cab687a",
   "metadata": {},
   "outputs": [],
   "source": [
    "from sklearn.model_selection import train_test_split\n",
    "x_train, x_test, y_train, y_test = train_test_split(x, y, test_size=0.33, random_state=0)"
   ]
  },
  {
   "cell_type": "code",
   "execution_count": 5,
   "id": "ac099bc7",
   "metadata": {},
   "outputs": [
    {
     "name": "stdout",
     "output_type": "stream",
     "text": [
      "mae = 3.174\n"
     ]
    }
   ],
   "source": [
    "from sklearn.covariance import EllipticEnvelope\n",
    "ee=EllipticEnvelope(contamination=0.01)\n",
    "yhat = ee.fit_predict(x_train)\n",
    "\n",
    "mask = yhat != -1\n",
    "x_train, y_train = x_train[mask, :], y_train[mask]\n",
    "\n",
    "from sklearn.linear_model import LinearRegression\n",
    "model = LinearRegression()\n",
    "model.fit(x_train, y_train)\n",
    "y_pred = model.predict(x_test)\n",
    "\n",
    "from sklearn.metrics import mean_absolute_error\n",
    "mae = mean_absolute_error(y_test, y_pred)\n",
    "print('mae = %0.3f' %mae)"
   ]
  },
  {
   "cell_type": "code",
   "execution_count": 7,
   "id": "2c277386",
   "metadata": {},
   "outputs": [
    {
     "name": "stdout",
     "output_type": "stream",
     "text": [
      "MAE = 3.636\n"
     ]
    }
   ],
   "source": [
    "#Outlier Detection using IsolatedForest\n",
    "from sklearn.ensemble import IsolationForest\n",
    "iso = IsolationForest(contamination = 0.1)\n",
    "xhat = iso.fit_predict(x_train);\n",
    "\n",
    "#identify outliers in the training dataset\n",
    "#select all rows that are not outliers\n",
    "mask = xhat != -1\n",
    "x_train, y_train = x_train[mask,:] , y_train[mask]\n",
    "\n",
    "from sklearn.linear_model import LinearRegression\n",
    "model = LinearRegression()\n",
    "model.fit(x_train, y_train)\n",
    "\n",
    "from sklearn.metrics import mean_absolute_error\n",
    "y_pred = model.predict(x_test)\n",
    "mae = mean_absolute_error(y_test,y_pred)\n",
    "print('MAE = %0.3f' %mae)"
   ]
  },
  {
   "cell_type": "code",
   "execution_count": null,
   "id": "6821b021",
   "metadata": {},
   "outputs": [],
   "source": []
  },
  {
   "cell_type": "code",
   "execution_count": null,
   "id": "87c7630b",
   "metadata": {},
   "outputs": [],
   "source": []
  }
 ],
 "metadata": {
  "kernelspec": {
   "display_name": "Python 3 (ipykernel)",
   "language": "python",
   "name": "python3"
  },
  "language_info": {
   "codemirror_mode": {
    "name": "ipython",
    "version": 3
   },
   "file_extension": ".py",
   "mimetype": "text/x-python",
   "name": "python",
   "nbconvert_exporter": "python",
   "pygments_lexer": "ipython3",
   "version": "3.9.12"
  }
 },
 "nbformat": 4,
 "nbformat_minor": 5
}
